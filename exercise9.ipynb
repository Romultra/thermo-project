{
 "cells": [
  {
   "cell_type": "markdown",
   "id": "0",
   "metadata": {},
   "source": [
    "# Question 9"
   ]
  },
  {
   "cell_type": "code",
   "execution_count": null,
   "id": "1",
   "metadata": {},
   "outputs": [],
   "source": [
    "import numpy as np\n",
    "import scipy as sp\n",
    "import matplotlib.pyplot as plt"
   ]
  },
  {
   "cell_type": "markdown",
   "id": "2",
   "metadata": {},
   "source": [
    "Heat pump is powered 60% renewable and 40% from combustion of methane (conversion eff of 55%)\n",
    "\n",
    "- Mass of CO_2 emissions (in kg) over a day?\n",
    "\n",
    "- CO_2 emission if electric heater was used?\n",
    "\n",
    "Heat of combustion $CH_4 = 55.5 MJ/kg$\n",
    "\n",
    "$CH_4 + 2O_2 \\to CO_2 + 2H_2O$"
   ]
  },
  {
   "cell_type": "code",
   "execution_count": null,
   "id": "3",
   "metadata": {},
   "outputs": [],
   "source": [
    "#third variable, heat, is the total heat that you want to supply the house with\n",
    "\n",
    "heat_rate = 8.18 #kW\n",
    "total_heat = heat_rate * 24 * 3600 #kJ, the heat that needs to be supplied to the house\n",
    "\n",
    "def energy_kgCO2(power_pump, power_heater, heat):\n",
    "    work_pump = power_pump * 24 * 3600 #kJ\n",
    "    work_heater = power_heater * 24 * 3600 #kJ\n",
    "    heat_comb_CH4 = 55.5 #MJ/kg\n",
    "    M_CH4 = 16.04/1000 #kg/mol\n",
    "    M_CO2 = 44/1000 #kg/mol\n",
    "    heat_comb_CO2 = (heat_comb_CH4 * M_CH4) / M_CO2 #MJ/kg CO2\n",
    "    eff_CH4_combustion = 0.55 \n",
    "    heat_comb_CO2_eff = heat_comb_CO2 * eff_CH4_combustion #MJ/kg CO2\n",
    "\n",
    "    kg_heat_pump = (work_pump * 0.4)/heat_comb_CO2_eff\n",
    "    kg_elec_heater = (work_heater * 0.4)/heat_comb_CO2_eff\n",
    "    kg_methane = heat / heat_comb_CO2  #doesn't consider the 55% eff stated in the problem description\n",
    "\n",
    "    return kg_heat_pump, kg_elec_heater, kg_methane\n"
   ]
  }
 ],
 "metadata": {
  "kernelspec": {
   "display_name": ".venv",
   "language": "python",
   "name": "python3"
  },
  "language_info": {
   "name": "python",
   "version": "3.11.5"
  }
 },
 "nbformat": 4,
 "nbformat_minor": 5
}
