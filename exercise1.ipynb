{
 "cells": [
  {
   "cell_type": "markdown",
   "id": "0",
   "metadata": {},
   "source": [
    "## Welcome to Thermodynamics - Too Hot  to Handle "
   ]
  },
  {
   "cell_type": "code",
   "execution_count": null,
   "id": "1",
   "metadata": {},
   "outputs": [],
   "source": [
    "import numpy as np\n",
    "from scipy.interpolate import griddata\n",
    "import pandas as pd\n",
    "import matplotlib.pyplot as plt\n",
    "from apdx_functions import *"
   ]
  },
  {
   "cell_type": "code",
   "execution_count": null,
   "id": "2",
   "metadata": {},
   "outputs": [],
   "source": [
    "def display_tables(variables):\n",
    "    # Separate system variables and state variables\n",
    "    system_vars = {}\n",
    "    state_vars = {}\n",
    "    \n",
    "    # Units for system variables\n",
    "    units = {\n",
    "        'm_dot': 'kg/s',\n",
    "        'Qh_dot': 'kW',\n",
    "        'qh': 'kJ/kg',\n",
    "        'Qc_dot': 'kW',\n",
    "        'qc': 'kJ/kg',\n",
    "        'Wc_dot': 'kW',\n",
    "        'wc': 'kJ/kg',\n",
    "        'n': '-',\n",
    "        'COP_hp': '-'\n",
    "    }\n",
    "    \n",
    "    # Units for state variables\n",
    "    state_units = {\n",
    "        'T': '°C',\n",
    "        'P': 'MPa',\n",
    "        'v': 'm³/kg',\n",
    "        's': 'kJ/kg·K',\n",
    "        'h': 'kJ/kg',\n",
    "        'u': 'kJ/kg',\n",
    "        'x': '-'\n",
    "    }\n",
    "    \n",
    "    # Format numbers to 3 significant figures, keeping significant zeros\n",
    "    def format_value(val):\n",
    "        if isinstance(val, (int, float, np.number)):\n",
    "            # Convert to string with 3 significant figures\n",
    "            formatted = '{:.3g}'.format(float(val))\n",
    "            # Add trailing zeros if needed to maintain 3 significant figures\n",
    "            if '.' not in formatted and len(formatted.replace('-', '')) < 3:\n",
    "                # For integers, add decimal point and zeros\n",
    "                formatted += '.' + '0' * (3 - len(formatted.replace('-', '')))\n",
    "            elif '.' in formatted:\n",
    "                significant_digits = len(formatted.replace('.', '').replace('-', '').lstrip('0'))\n",
    "                if significant_digits < 3:\n",
    "                    formatted += '0' * (3 - significant_digits)\n",
    "            return formatted\n",
    "        return val\n",
    "\n",
    "    # Process variables with 3 significant figures\n",
    "    for key, value in variables.items():\n",
    "        if isinstance(value, dict):\n",
    "            state_vars[key] = {k: format_value(v) for k, v in value.items()}\n",
    "        else:\n",
    "            system_vars[key] = format_value(value)\n",
    "\n",
    "    # Create state variables table with units\n",
    "    state_df = pd.DataFrame(state_vars).T\n",
    "    state_df.columns = [f\"{col} ({state_units[col]})\" for col in state_df.columns]\n",
    "    print(\"\\n=== State Variables ===\")\n",
    "    display(state_df)\n",
    "    \n",
    "    # Create system variables table with units\n",
    "    system_df = pd.DataFrame([(f\"{k} ({units[k]})\", v) for k, v in system_vars.items()], \n",
    "                           columns=['Variable', 'Value'])\n",
    "    system_df.set_index('Variable', inplace=True)\n",
    "    print(\"\\n=== System Variables ===\")\n",
    "    display(system_df)"
   ]
  },
  {
   "cell_type": "code",
   "execution_count": null,
   "id": "3",
   "metadata": {},
   "outputs": [],
   "source": [
    "from Rankine_solver import *\n",
    "\n",
    "vars = define_empty_variables()\n",
    "\n",
    "# give the solver *one* piece of information per state\n",
    "vars['2']['T'] = -8  # K\n",
    "vars['3']['P'] = 0.8 # MPa\n",
    "vars['m_dot'] = 0.1 # kg/s\n",
    "\n",
    "solved = solve_r_rankine_cycle(vars)\n",
    "\n",
    "display_tables(solved)\n",
    "plot_Ts_cycle(solved)"
   ]
  }
 ],
 "metadata": {
  "kernelspec": {
   "display_name": ".venv",
   "language": "python",
   "name": "python3"
  },
  "language_info": {
   "codemirror_mode": {
    "name": "ipython",
    "version": 3
   },
   "file_extension": ".py",
   "mimetype": "text/x-python",
   "name": "python",
   "nbconvert_exporter": "python",
   "pygments_lexer": "ipython3",
   "version": "3.13.2"
  }
 },
 "nbformat": 4,
 "nbformat_minor": 5
}
