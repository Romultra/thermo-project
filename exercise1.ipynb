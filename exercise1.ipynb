{
 "cells": [
  {
   "cell_type": "markdown",
   "id": "0",
   "metadata": {},
   "source": [
    "## Welcome to Thermodynamics - Too Hot  to Handle "
   ]
  },
  {
   "cell_type": "code",
   "execution_count": null,
   "id": "1",
   "metadata": {},
   "outputs": [],
   "source": [
    "import numpy as np\n",
    "from scipy.interpolate import griddata\n",
    "import pandas as pd\n",
    "import matplotlib.pyplot as plt\n",
    "from apdx_functions import *\n",
    "from Rankine_solver import *"
   ]
  },
  {
   "cell_type": "code",
   "execution_count": null,
   "id": "2",
   "metadata": {},
   "outputs": [],
   "source": [
    "vars = define_empty_variables()\n",
    "\n",
    "# give the solver *one* piece of information per state\n",
    "vars['2']['T'] = -8  # K\n",
    "vars['3']['P'] = 0.8 # MPa\n",
    "vars['m_dot'] = 0.1 # kg/s\n",
    "\n",
    "solved = solve_r_rankine_cycle(vars)\n",
    "\n",
    "display_tables(solved)\n",
    "plot_Ts_cycle(solved)"
   ]
  }
 ],
 "metadata": {
  "kernelspec": {
   "display_name": ".venv",
   "language": "python",
   "name": "python3"
  },
  "language_info": {
   "codemirror_mode": {
    "name": "ipython",
    "version": 3
   },
   "file_extension": ".py",
   "mimetype": "text/x-python",
   "name": "python",
   "nbconvert_exporter": "python",
   "pygments_lexer": "ipython3",
   "version": "3.13.2"
  }
 },
 "nbformat": 4,
 "nbformat_minor": 5
}
