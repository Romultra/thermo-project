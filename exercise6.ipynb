{
 "cells": [
  {
   "cell_type": "markdown",
   "id": "0",
   "metadata": {},
   "source": [
    "# Question 6"
   ]
  },
  {
   "cell_type": "code",
   "execution_count": null,
   "id": "1",
   "metadata": {},
   "outputs": [],
   "source": [
    "import numpy as np\n",
    "from tqdm import tqdm # Nice Progress bar for loops\n",
    "import matplotlib.pyplot as plt\n",
    "from Rankine_solver import define_empty_variables, solve_r_rankine_cycle\n",
    "from Rankine_solver import display_tables, plot_Ts_cycle"
   ]
  },
  {
   "cell_type": "code",
   "execution_count": null,
   "id": "2",
   "metadata": {},
   "outputs": [],
   "source": [
    "# === CONSTANTS ===\n",
    "\n",
    "''' T2_Range has to be changed to -10C to 35C when Romeo fixes code'''\n",
    "\n",
    "T2_range = np.linspace(-10, 31, 100)  # 100 points between -10°C and 35°C \n",
    "m_dot_max = 0.16  # [kg/s], given from earlier question (minimum of hot and cold limits)\n",
    "\n",
    "def get_W_c(T2_C):\n",
    "    vars = define_empty_variables()\n",
    "    vars['2']['T'] = T2_C  # C\n",
    "    vars['4']['T'] = 35 # C\n",
    "    vars['Qh_dot']= 8.18 #kW\n",
    "    solved = solve_r_rankine_cycle(vars)\n",
    "    m_dot = solved['m_dot']\n",
    "    Wc_dot = solved['Wc_dot']\n",
    "    \n",
    "\n",
    "    return(Wc_dot,m_dot)\n",
    "\n",
    "# === Main Calculation ===\n",
    "T2_list = []\n",
    "W_c_list = []\n",
    "m_dot_list = []\n",
    "solid_line = []\n",
    "\n",
    "for T2_C in T2_range:\n",
    "    Wc_dot,m_dot = get_W_c(T2_C)\n",
    "    \n",
    "    #Store\n",
    "    T2_list.append(T2_C)  # back to Celsius\n",
    "    W_c_list.append(float(Wc_dot))    # kW\n",
    "    m_dot_list.append(float(m_dot))\n",
    "    solid_line.append(float(m_dot) <= m_dot_max)\n",
    "\n",
    "\n",
    "# === Plotting ===\n",
    "plt.figure(figsize=(10,6))\n",
    "\n",
    "T2_list = np.array(T2_list)\n",
    "W_c_list = np.array(W_c_list)\n",
    "solid_line = np.array(solid_line)\n",
    "\n",
    "# Solid line where m_dot <= m_dot_max\n",
    "plt.plot(T2_list[solid_line], W_c_list[solid_line], 'b-', label='ṁ ≤ ṁ_max')\n",
    "\n",
    "# Dashed line where m_dot > m_dot_max\n",
    "plt.plot(T2_list[~solid_line], W_c_list[~solid_line], 'b--', label='ṁ > ṁ_max')\n",
    "\n",
    "# Mark the transition point\n",
    "if np.any(~solid_line):\n",
    "    idx_transition = np.argmax(~solid_line)\n",
    "    plt.plot(T2_list[idx_transition], W_c_list[idx_transition], 'ro', label='ṁ = ṁ_max')\n",
    "\n",
    "plt.xlabel('T₂ (°C)')\n",
    "plt.ylabel('Compressor Input Power Ẇc (kW)')\n",
    "plt.title('Compressor Input Power vs T₂')\n",
    "plt.grid(True)\n",
    "plt.legend()\n",
    "plt.show()\n",
    "\n",
    "# === Discussion ===\n",
    "min_idx = np.argmin(W_c_list)\n",
    "print(f\"Minimal power consumption: {W_c_list[min_idx]:.2f} kW at T₂ = {T2_list[min_idx]:.2f} °C\")\n",
    "\n",
    "if np.isclose(T2_list[min_idx], T4_C, atol=0.5):\n",
    "    print(\"T₂ approaches T₄: compression work theoretically approaches zero.\")\n",
    "else:\n",
    "    print(\"T₂ is significantly lower than T₄.\")\n"
   ]
  }
 ],
 "metadata": {
  "kernelspec": {
   "display_name": ".venv",
   "language": "python",
   "name": "python3"
  },
  "language_info": {
   "codemirror_mode": {
    "name": "ipython",
    "version": 3
   },
   "file_extension": ".py",
   "mimetype": "text/x-python",
   "name": "python",
   "nbconvert_exporter": "python",
   "pygments_lexer": "ipython3",
   "version": "3.12.1"
  }
 },
 "nbformat": 4,
 "nbformat_minor": 5
}
