{
 "cells": [
  {
   "cell_type": "markdown",
   "id": "0",
   "metadata": {},
   "source": [
    "# Welcome to Thermodynamics - Too Hot  to Handle "
   ]
  },
  {
   "cell_type": "markdown",
   "id": "1",
   "metadata": {},
   "source": [
    "## Exercise 1:"
   ]
  },
  {
   "cell_type": "code",
   "execution_count": null,
   "id": "2",
   "metadata": {},
   "outputs": [],
   "source": [
    "import numpy as np\n",
    "from tqdm import tqdm # Nice Progress bar for loops\n",
    "import matplotlib.pyplot as plt\n",
    "from Rankine_solver import define_empty_variables, solve_r_rankine_cycle\n",
    "from Rankine_solver import display_tables, plot_Ts_cycle"
   ]
  },
  {
   "cell_type": "code",
   "execution_count": null,
   "id": "3",
   "metadata": {},
   "outputs": [],
   "source": [
    "vars = define_empty_variables()\n",
    "\n",
    "# give the solver *one* piece of information per state\n",
    "vars['2']['T'] = -8  # C\n",
    "vars['3']['P'] = 0.8 # MPa\n",
    "vars['m_dot'] = 0.1 # kg/s\n",
    "\n",
    "solved = solve_r_rankine_cycle(vars)\n",
    "\n",
    "display_tables(solved)\n",
    "plot_Ts_cycle(solved)"
   ]
  },
  {
   "cell_type": "markdown",
   "id": "4",
   "metadata": {},
   "source": [
    "## Exercise 2:"
   ]
  },
  {
   "cell_type": "code",
   "execution_count": null,
   "id": "5",
   "metadata": {},
   "outputs": [],
   "source": [
    "def get_COP_from_T(T2, T4):\n",
    "    vars = define_empty_variables()\n",
    "    # give the solver *one* piece of information per state\n",
    "    vars['2']['T'] = T2 # C\n",
    "    vars['4']['T'] = T4 # C\n",
    "    vars['m_dot'] = 0.1 # kg/s\n",
    "\n",
    "    solved = solve_r_rankine_cycle(vars)\n",
    "    return solved['COP_hp']\n",
    "\n",
    "T2s = np.linspace(-10, 15, 100)  # C\n",
    "T4s = [25, 30, 35]  # C\n",
    "\n",
    "plt.figure(figsize=(10, 6))\n",
    "for T4 in T4s:\n",
    "    print(f'Calculating COP for T4 = {T4}°C')\n",
    "    COPs = []\n",
    "    for T2 in tqdm(T2s):\n",
    "        COP = get_COP_from_T(T2, T4)\n",
    "        COPs.append(COP)\n",
    "    plt.plot(T2s, COPs, label=f'T4 = {T4}°C')\n",
    "\n",
    "plt.xlabel('T2 (°C)')\n",
    "plt.ylabel('COP')\n",
    "plt.title('COP vs T2 for different T4 values')\n",
    "plt.grid(True)\n",
    "plt.legend()\n",
    "plt.show()"
   ]
  }
 ],
 "metadata": {
  "kernelspec": {
   "display_name": ".venv",
   "language": "python",
   "name": "python3"
  },
  "language_info": {
   "codemirror_mode": {
    "name": "ipython",
    "version": 3
   },
   "file_extension": ".py",
   "mimetype": "text/x-python",
   "name": "python",
   "nbconvert_exporter": "python",
   "pygments_lexer": "ipython3",
   "version": "3.13.2"
  }
 },
 "nbformat": 4,
 "nbformat_minor": 5
}
