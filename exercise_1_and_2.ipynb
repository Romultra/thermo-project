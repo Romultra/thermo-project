{
 "cells": [
  {
   "cell_type": "markdown",
   "id": "0",
   "metadata": {},
   "source": [
    "# Welcome to Thermodynamics - Too Hot  to Handle "
   ]
  },
  {
   "cell_type": "markdown",
   "id": "1",
   "metadata": {},
   "source": [
    "## Exercise 1:"
   ]
  },
  {
   "cell_type": "code",
   "execution_count": null,
   "id": "2",
   "metadata": {},
   "outputs": [],
   "source": [
    "import numpy as np\n",
    "from tqdm import tqdm # Nice Progress bar for loops\n",
    "import matplotlib.pyplot as plt\n",
    "from Rankine_solver import define_empty_variables, solve_r_rankine_cycle\n",
    "from Rankine_solver import display_tables, plot_Ts_cycle"
   ]
  },
  {
   "cell_type": "code",
   "execution_count": null,
   "id": "3",
   "metadata": {},
   "outputs": [],
   "source": [
    "vars = define_empty_variables()\n",
    "\n",
    "# give the solver *one* piece of information per state\n",
    "vars['2']['T'] = -8  # C\n",
    "vars['3']['P'] = 0.8 # MPa\n",
    "vars['m_dot'] = 0.1 # kg/s\n",
    "\n",
    "solved = solve_r_rankine_cycle(vars)\n",
    "\n",
    "display_tables(solved)\n",
    "plot_Ts_cycle(solved)"
   ]
  },
  {
   "cell_type": "markdown",
   "id": "4",
   "metadata": {},
   "source": [
    "## Exercise 2:"
   ]
  },
  {
   "cell_type": "code",
   "execution_count": null,
   "id": "5",
   "metadata": {},
   "outputs": [],
   "source": [
    "def get_COP_from_T(T2, T4):\n",
    "    vars = define_empty_variables()\n",
    "    # give the solver *one* piece of information per state\n",
    "    vars['2']['T'] = T2 # C\n",
    "    vars['4']['T'] = T4 # C\n",
    "    vars['m_dot'] = 0.1 # kg/s\n",
    "\n",
    "    solved = solve_r_rankine_cycle(vars)\n",
    "    return solved['COP_hp']\n",
    "\n",
    "T2s = np.linspace(-10, 15, 100)  # C\n",
    "T4s = [25, 30, 35]  # C\n",
    "\n",
    "plt.figure(figsize=(10, 6))\n",
    "for T4 in T4s:\n",
    "    print(f'Calculating COP for T4 = {T4}°C')\n",
    "    COPs = []\n",
    "    for T2 in tqdm(T2s):\n",
    "        COP = get_COP_from_T(T2, T4)\n",
    "        COPs.append(COP)\n",
    "    plt.plot(T2s, COPs, label=f'T4 = {T4}°C')\n",
    "\n",
    "plt.xlabel('T2 (°C)')\n",
    "plt.ylabel('COP')\n",
    "plt.title('COP vs T2 for different T4 values')\n",
    "plt.grid(True)\n",
    "plt.legend()\n",
    "plt.show()"
   ]
  },
  {
   "cell_type": "code",
   "execution_count": null,
   "id": "6",
   "metadata": {},
   "outputs": [],
   "source": [
    "def Conductance(k,L,r1,r2):\n",
    "    G=(2*np.pi*k*L)/(np.log(r2/r1))\n",
    "    return G\n",
    "\n",
    "G=Conductance(398, 1, 0.003, 0.005)\n",
    "print(G)\n",
    "\n",
    "Tc =10 # C\n",
    "Th = 22 # C\n",
    "T2=0 # C\n",
    "T4=35 # C\n",
    "\n",
    "vars = define_empty_variables()\n",
    "\n",
    "# give the solver *one* piece of information per state\n",
    "vars['2']['T'] = T2  # C\n",
    "vars['4']['T'] = T4 # C\n",
    "\n",
    "solved = solve_r_rankine_cycle(vars)\n",
    "\n",
    "m_dot_C=(G*10**(-3)*(Tc-T2))/solved['qc'] #kg/s\n",
    "m_dot_H=(G*10**(-3)*(T4-Tc))/solved['qh'] #kg/s\n",
    "print(m_dot_C, m_dot_H)\n",
    "\n",
    "m_dot = np.min([m_dot_C, m_dot_H])\n",
    "\n",
    "vars = define_empty_variables()\n",
    "\n",
    "# give the solver *one* piece of information per state\n",
    "vars['2']['T'] = T2  # C\n",
    "vars['4']['T'] = T4 # C\n",
    "vars['m_dot'] = m_dot # kg/s\n",
    "\n",
    "solved = solve_r_rankine_cycle(vars)\n",
    "\n",
    "display_tables(solved)\n",
    "plot_Ts_cycle(solved)"
   ]
  },
  {
   "cell_type": "code",
   "execution_count": null,
   "id": "7",
   "metadata": {},
   "outputs": [],
   "source": [
    "def get_COP_from_T(T2, T4):\n",
    "    vars = define_empty_variables()\n",
    "    # give the solver *one* piece of information per state\n",
    "    vars['2']['T'] = T2 # C\n",
    "    vars['4']['T'] = T4 # C\n",
    "    vars['Qc_dot'] = 0.16 # kW\n",
    "\n",
    "    solved = solve_r_rankine_cycle(vars)\n",
    "    return solved['Wc_dot']\n",
    "\n",
    "T2s = np.linspace(-10, 35, 100)  # C\n",
    "T4s = [35]  # C\n",
    "\n",
    "plt.figure(figsize=(10, 6))\n",
    "for T4 in T4s:\n",
    "    print(f'Calculating COP for T4 = {T4}°C')\n",
    "    COPs = []\n",
    "    for T2 in tqdm(T2s):\n",
    "        COP = get_COP_from_T(T2, T4)\n",
    "        COPs.append(COP)\n",
    "    plt.plot(T2s, COPs, label=f'T4 = {T4}°C')\n",
    "\n",
    "plt.xlabel('T2 (°C)')\n",
    "plt.ylabel('COP')\n",
    "plt.title('COP vs T2 for different T4 values')\n",
    "plt.grid(True)\n",
    "plt.legend()\n",
    "plt.show()"
   ]
  },
  {
   "cell_type": "code",
   "execution_count": null,
   "id": "8",
   "metadata": {},
   "outputs": [],
   "source": [
    "import numpy as np\n",
    "from tqdm import tqdm # Nice Progress bar for loops\n",
    "import matplotlib.pyplot as plt\n",
    "from Rankine_solver import define_empty_variables, solve_r_rankine_cycle\n",
    "from Rankine_solver import display_tables, plot_Ts_cycle\n",
    "\n",
    "vars = define_empty_variables()\n",
    "\n",
    "# give the solver *one* piece of information per state\n",
    "vars['2']['T'] = 32  # C\n",
    "vars['4']['T'] = 35 # C\n",
    "#vars['m_dot'] = 0.1 # kg/s\n",
    "vars['Qh_dot'] = 8.18 # kW\n",
    "\n",
    "solved = solve_r_rankine_cycle(vars, verbose=True)\n",
    "\n",
    "display_tables(solved)"
   ]
  }
 ],
 "metadata": {
  "kernelspec": {
   "display_name": ".venv",
   "language": "python",
   "name": "python3"
  },
  "language_info": {
   "codemirror_mode": {
    "name": "ipython",
    "version": 3
   },
   "file_extension": ".py",
   "mimetype": "text/x-python",
   "name": "python",
   "nbconvert_exporter": "python",
   "pygments_lexer": "ipython3",
   "version": "3.13.2"
  }
 },
 "nbformat": 4,
 "nbformat_minor": 5
}
