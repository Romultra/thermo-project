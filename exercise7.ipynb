{
 "cells": [
  {
   "cell_type": "markdown",
   "id": "0",
   "metadata": {},
   "source": [
    "# Question 7"
   ]
  },
  {
   "cell_type": "code",
   "execution_count": null,
   "id": "1",
   "metadata": {},
   "outputs": [],
   "source": [
    "import numpy as np\n",
    "from tqdm import tqdm # Nice Progress bar for loops\n",
    "import matplotlib.pyplot as plt\n",
    "from Rankine_solver import define_empty_variables, solve_r_rankine_cycle\n",
    "from Rankine_solver import display_tables, plot_Ts_cycle"
   ]
  },
  {
   "cell_type": "code",
   "execution_count": null,
   "id": "2",
   "metadata": {},
   "outputs": [],
   "source": [
    "#t First part\n",
    "def get_t2_t4(T_h,T_c,Q_h):\n",
    "    T2_range = np.linspace(T_c- 15, T_c - 0.1, 30)   \n",
    "    T4_range = np.linspace(T_h + 0.1, T_h + 15, 30)\n",
    "    m_dot_max = 3\n",
    "    best_Wc = float('inf')\n",
    "    for t2 in T2_range:\n",
    "        for t4 in T4_range:\n",
    "            try:\n",
    "                vars = define_empty_variables()\n",
    "                vars['2']['T'] = t2\n",
    "                vars['4']['T'] = t4\n",
    "                vars['Qh_dot'] = Q_h\n",
    "\n",
    "                solved = solve_r_rankine_cycle(vars)\n",
    "                m_dot = solved['m_dot']\n",
    "                Wc_dot = solved['Wc_dot']\n",
    "\n",
    "                if m_dot <= m_dot_max and Wc_dot < best_Wc:\n",
    "                    best_Wc = Wc_dot\n",
    "                    best_T2 = t2\n",
    "                    best_T4 = t4\n",
    "                    best_m_dot = m_dot\n",
    "            \n",
    "            except:\n",
    "            \n",
    "                continue\n",
    "    print(f\"  T₂ = {best_T2:.2f} °C\")\n",
    "    print(f\"  T₄ = {best_T4:.2f} °C\")\n",
    "    print(f\"  ṁ = {best_m_dot:.4f} kg/s\")\n",
    "    print(f\"  Ẇc = {best_Wc:.2f} kW\")\n",
    "    return\n"
   ]
  }
 ],
 "metadata": {
  "kernelspec": {
   "display_name": ".venv",
   "language": "python",
   "name": "python3"
  },
  "language_info": {
   "codemirror_mode": {
    "name": "ipython",
    "version": 3
   },
   "file_extension": ".py",
   "mimetype": "text/x-python",
   "name": "python",
   "nbconvert_exporter": "python",
   "pygments_lexer": "ipython3",
   "version": "3.11.5"
  }
 },
 "nbformat": 4,
 "nbformat_minor": 5
}
