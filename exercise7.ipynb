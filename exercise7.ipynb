{
 "cells": [
  {
   "cell_type": "markdown",
   "id": "0",
   "metadata": {},
   "source": [
    "# Question 7"
   ]
  },
  {
   "cell_type": "code",
   "execution_count": null,
   "id": "1",
   "metadata": {},
   "outputs": [],
   "source": [
    "import numpy as np\n",
    "from tqdm import tqdm # Nice Progress bar for loops\n",
    "import matplotlib.pyplot as plt\n",
    "from Rankine_solver import define_empty_variables, solve_r_rankine_cycle\n",
    "from Rankine_solver import display_tables, plot_Ts_cycle\n",
    "import warnings\n",
    "warnings.filterwarnings(\"ignore\")\n",
    "from tqdm import tqdm"
   ]
  },
  {
   "cell_type": "code",
   "execution_count": null,
   "id": "2",
   "metadata": {},
   "outputs": [],
   "source": [
    "def get_m_dot_from_T(G,TC,TH,T2, T4,qh,qc):\n",
    "    if T2 >= TC :\n",
    "        return 0  # No heat absorption or rejection possible if working fluid(T2) is hotter than cold reservoir (TC)\n",
    "    m_dot_H = 0\n",
    "    if abs(qh) > 1e-5 :\n",
    "        m_dot_H = (G * 1e-3 * np.abs(TH - T4)) / qh\n",
    "\n",
    "    m_dot_C = 0\n",
    "    if abs(qc) > 1e-5 :\n",
    "        m_dot_C = (G * 1e-3 * np.abs(TC - T2)) / qc\n",
    "\n",
    "    m_dot = max(min(m_dot_C, m_dot_H), 0)\n",
    "    return m_dot\n",
    "\n",
    "\n",
    "\n",
    "def get_t2_t4(T_h, T_c_vals, Q_h_vals):\n",
    "    G_heatp = 4895.423478997306\n",
    "    wc_vals = np.zeros_like(T_c_vals)\n",
    "\n",
    "    for i in tqdm(range(len(T_c_vals)), desc=\"Computing Wc\"):\n",
    "        T_c = T_c_vals[i]\n",
    "        Q_h = Q_h_vals[i]\n",
    "\n",
    "        T2_range = np.linspace(T_c - 15, T_c - 0.1, 20)\n",
    "        T4_range = np.linspace(T_h + 0.1, T_h + 15, 20)\n",
    "        best_Wc = np.inf\n",
    "        best_m_dot = 0\n",
    "\n",
    "        for T2 in T2_range:\n",
    "            for T4 in T4_range:\n",
    "                vars = define_empty_variables()\n",
    "                vars['2']['T'] = T2\n",
    "                vars['4']['T'] = T4\n",
    "                vars['Qh_dot'] = Q_h\n",
    "\n",
    "                solved = solve_r_rankine_cycle(vars)\n",
    "                m_dot = solved['m_dot']\n",
    "                Wc_dot = solved['Wc_dot']\n",
    "                qh = solved['qh']\n",
    "                qc = solved['qc']\n",
    "                m_dot_max = get_m_dot_from_T(G_heatp, T_c, T_h, T2, T4, qh, qc)\n",
    "\n",
    "                if m_dot <= m_dot_max and Wc_dot < best_Wc:\n",
    "                    best_Wc = Wc_dot\n",
    "                    best_m_dot = m_dot\n",
    "\n",
    "        wc_vals[i] = best_Wc\n",
    "\n",
    "    return wc_vals\n",
    "\n"
   ]
  },
  {
   "cell_type": "code",
   "execution_count": null,
   "id": "3",
   "metadata": {},
   "outputs": [],
   "source": [
    "#part 2\n",
    "G = 682.27  # W/K\n",
    "T_h = 22\n",
    "T_c = np.linspace(5,22,15)\n",
    "Q_h_vals = np.zeros_like(T_c) \n",
    "\n",
    "for i in range(len(T_c)):\n",
    "    Q_h_vals[i] = G * (T_h - T_c[i]) / 1000\n",
    "\n",
    "\n",
    "\n",
    "wc = get_t2_t4(T_h,T_c,Q_h_vals)\n",
    "\n",
    "plt.figure(figsize=(8, 5))\n",
    "plt.plot(T_c, wc, marker='o')\n",
    "plt.title(\"Optimized compressor work vs exterior temperature\")\n",
    "plt.xlabel(\"Exterior Temperature (ºC)\")\n",
    "plt.ylabel(\"Compressor work (kW)\")\n",
    "plt.grid(True)\n",
    "plt.show()\n",
    "\n"
   ]
  }
 ],
 "metadata": {
  "kernelspec": {
   "display_name": ".venv",
   "language": "python",
   "name": "python3"
  },
  "language_info": {
   "codemirror_mode": {
    "name": "ipython",
    "version": 3
   },
   "file_extension": ".py",
   "mimetype": "text/x-python",
   "name": "python",
   "nbconvert_exporter": "python",
   "pygments_lexer": "ipython3",
   "version": "3.11.5"
  }
 },
 "nbformat": 4,
 "nbformat_minor": 5
}
