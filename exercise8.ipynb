{
 "cells": [
  {
   "cell_type": "markdown",
   "id": "0",
   "metadata": {},
   "source": [
    "# Question 8"
   ]
  },
  {
   "cell_type": "code",
   "execution_count": null,
   "id": "1",
   "metadata": {},
   "outputs": [],
   "source": [
    "from sympy import *\n",
    "import numpy as np\n",
    "import nbimporter\n",
    "from exercise7 import get_m_dot_from_T, get_t2_t4"
   ]
  },
  {
   "cell_type": "markdown",
   "id": "2",
   "metadata": {},
   "source": [
    "W_c is the work of the heat pump\n",
    "\n",
    "Q_c is the work of the heater––there's an almost 100% efficient conversion, so you need to input as work as much heat as you need to provide the house with"
   ]
  },
  {
   "cell_type": "code",
   "execution_count": null,
   "id": "3",
   "metadata": {},
   "outputs": [],
   "source": [
    "R_total = 1.46 * 10**-3 #Ohms\n",
    "T_H = 22 + 273.15 #K\n",
    "T_C_min = 5 + 273.15\n",
    "T_C_max = 22 + 273.15\n",
    "\n",
    "t_vals = np.linspace(0,24,24)\n",
    "def Time_varying_Tc(t):\n",
    "    omega = (2 * np.pi) / 24\n",
    "    return 10 + 5*np.sin(omega * t)"
   ]
  },
  {
   "cell_type": "code",
   "execution_count": null,
   "id": "4",
   "metadata": {},
   "outputs": [],
   "source": [
    "G = 682.27  # W/K\n",
    "T_C = Time_varying_Tc(t_vals)\n",
    "Q_h_vals = np.zeros_like(T_C) \n",
    "T_H = 22 #K\n",
    "for i in range(len(T_C)):\n",
    "    Q_h_vals[i] = G * (T_H - T_C[i]) / 1000\n",
    "\n",
    "Wc = get_t2_t4(T_H,T_C,Q_h_vals)"
   ]
  },
  {
   "cell_type": "code",
   "execution_count": null,
   "id": "5",
   "metadata": {},
   "outputs": [],
   "source": [
    "Wc = np.array([0.47987518, 0.3675373 , 0.29380632, 0.23773657, 0.20035699,\n",
    "       0.18008032, 0.17607668, 0.18814142, 0.21684688, 0.26348959,\n",
    "       0.32856771, 0.41029481, 0.52992652, 0.66289583, 0.76490979,\n",
    "       0.85221006, 0.91400629, 0.94200842, 0.93257003, 0.8869274 ,\n",
    "       0.81095392, 0.71513646, 0.6095701 , 0.47987518])"
   ]
  },
  {
   "cell_type": "code",
   "execution_count": null,
   "id": "6",
   "metadata": {},
   "outputs": [],
   "source": [
    "Wc_average = sum(Wc)/24\n",
    "Wc_average # kW"
   ]
  },
  {
   "cell_type": "code",
   "execution_count": null,
   "id": "7",
   "metadata": {},
   "outputs": [],
   "source": [
    "Q_h_average = sum(Q_h_vals)/24\n",
    "Q_h_average"
   ]
  }
 ],
 "metadata": {
  "kernelspec": {
   "display_name": ".venv",
   "language": "python",
   "name": "python3"
  },
  "language_info": {
   "codemirror_mode": {
    "name": "ipython",
    "version": 3
   },
   "file_extension": ".py",
   "mimetype": "text/x-python",
   "name": "python",
   "nbconvert_exporter": "python",
   "pygments_lexer": "ipython3",
   "version": "3.9.6"
  }
 },
 "nbformat": 4,
 "nbformat_minor": 5
}
