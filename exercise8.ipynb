{
 "cells": [
  {
   "cell_type": "markdown",
   "id": "0",
   "metadata": {},
   "source": [
    "# Question 8"
   ]
  },
  {
   "cell_type": "code",
   "execution_count": null,
   "id": "1",
   "metadata": {},
   "outputs": [],
   "source": [
    "from sympy import *\n",
    "import numpy as np\n",
    "import nbimporter\n",
    "from exercise7 import get_m_dot_from_T, get_t2_t4"
   ]
  },
  {
   "cell_type": "markdown",
   "id": "2",
   "metadata": {},
   "source": [
    "W_c is the work of the heat pump\n",
    "\n",
    "Q_c is the work of the heater––there's an almost 100% efficient conversion, so you need to input as work as much heat as you need to provide the house with"
   ]
  },
  {
   "cell_type": "code",
   "execution_count": null,
   "id": "3",
   "metadata": {},
   "outputs": [],
   "source": [
    "R_total = 1.46 * 10**-3 #Ohms\n",
    "T_H = 22 + 273.15 #K\n",
    "T_C_min = 5 + 273.15\n",
    "T_C_max = 22 + 273.15\n",
    "\n",
    "t = np.linspace(0,24,100)\n",
    "\n",
    "def Time_varying_Tc(t):\n",
    "    #Definitions\n",
    "    R_total = 1.46 * 10**-3 #Ohms\n",
    "    T_H = 22 #K\n",
    "\n",
    "    #Define time-varying T_C\n",
    "    omega = (2 * np.pi) / 24\n",
    "    T_C = 10 + 5*np.sin(omega * t)\n",
    "    W_c = function()#.....)\n",
    "    Q_c = (T_H - T_C) / R_total"
   ]
  }
 ],
 "metadata": {
  "kernelspec": {
   "display_name": ".venv",
   "language": "python",
   "name": "python3"
  },
  "language_info": {
   "codemirror_mode": {
    "name": "ipython",
    "version": 3
   },
   "file_extension": ".py",
   "mimetype": "text/x-python",
   "name": "python",
   "nbconvert_exporter": "python",
   "pygments_lexer": "ipython3",
   "version": "3.11.5"
  }
 },
 "nbformat": 4,
 "nbformat_minor": 5
}
