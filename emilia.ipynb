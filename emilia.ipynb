{
 "cells": [
  {
   "cell_type": "code",
   "execution_count": null,
   "id": "0",
   "metadata": {},
   "outputs": [],
   "source": [
    "import numpy as np\n",
    "import matplotlib.pyplot as plt\n",
    "import scipy as sp\n"
   ]
  },
  {
   "cell_type": "markdown",
   "id": "1",
   "metadata": {},
   "source": [
    "Question 1\n",
    "\n",
    "input: $T_2$, $P_4$, $\\dot{m}$\n",
    "\n",
    "output: heating power $\\dot{Q}_H$, input power $\\dot{W}_c$, and heating COP ($|\\dot{Q}|/\\dot{W}_c$)"
   ]
  },
  {
   "cell_type": "code",
   "execution_count": null,
   "id": "2",
   "metadata": {},
   "outputs": [],
   "source": [
    "mass_rate = 0.10 #kg/s\n",
    "T2 = -8 + 273.5 #K\n",
    "P4 = 0.8 * 10**6 #Pa\n",
    "\n",
    "def question1(m_dot, T2, P4, h1, h2, h3, h4):\n",
    "    W_dot_c = m_dot *(h3 - h2)\n",
    "    COP_R = (h2 - h1)/(h3 - h2)\n",
    "    \n"
   ]
  }
 ],
 "metadata": {
  "kernelspec": {
   "display_name": ".venv",
   "language": "python",
   "name": "python3"
  },
  "language_info": {
   "codemirror_mode": {
    "name": "ipython",
    "version": 3
   },
   "file_extension": ".py",
   "mimetype": "text/x-python",
   "name": "python",
   "nbconvert_exporter": "python",
   "pygments_lexer": "ipython3",
   "version": "3.11.5"
  }
 },
 "nbformat": 4,
 "nbformat_minor": 5
}
