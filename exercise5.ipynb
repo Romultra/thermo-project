{
 "cells": [
  {
   "cell_type": "markdown",
   "id": "0",
   "metadata": {},
   "source": [
    "# Question 5"
   ]
  },
  {
   "cell_type": "code",
   "execution_count": null,
   "id": "1",
   "metadata": {},
   "outputs": [],
   "source": [
    "import numpy as np\n",
    "import matplotlib.pyplot as plt\n",
    "from tqdm import tqdm # Nice Progress bar for loops\n",
    "from Rankine_solver import define_empty_variables, solve_r_rankine_cycle\n",
    "from Rankine_solver import display_tables, plot_Ts_cycle"
   ]
  },
  {
   "cell_type": "code",
   "execution_count": null,
   "id": "2",
   "metadata": {},
   "outputs": [],
   "source": [
    "#finding qH\n",
    "vars = define_empty_variables()\n",
    "\n",
    "# give the solver *one* piece of information per state\n",
    "vars['2']['T'] = 5  # C\n",
    "vars['4']['T'] = 35 # C\n",
    "\n",
    "solved = solve_r_rankine_cycle(vars)\n",
    "\n",
    "display_tables(solved)"
   ]
  },
  {
   "cell_type": "code",
   "execution_count": null,
   "id": "3",
   "metadata": {},
   "outputs": [],
   "source": [
    "qH = 171 #kJ/kg\n",
    "Q_dot_H = 8.18 #kW, given by the exercise\n",
    "\n",
    "m_dot_H = Q_dot_H/qH\n",
    "m_dot_H"
   ]
  }
 ],
 "metadata": {
  "kernelspec": {
   "display_name": ".venv",
   "language": "python",
   "name": "python3"
  },
  "language_info": {
   "codemirror_mode": {
    "name": "ipython",
    "version": 3
   },
   "file_extension": ".py",
   "mimetype": "text/x-python",
   "name": "python",
   "nbconvert_exporter": "python",
   "pygments_lexer": "ipython3",
   "version": "3.12.1"
  }
 },
 "nbformat": 4,
 "nbformat_minor": 5
}
