{
 "cells": [
  {
   "cell_type": "markdown",
   "id": "0",
   "metadata": {},
   "source": [
    "# Question 4"
   ]
  },
  {
   "cell_type": "code",
   "execution_count": null,
   "id": "1",
   "metadata": {},
   "outputs": [],
   "source": [
    "import numpy as np\n",
    "import matplotlib.pyplot as plt\n",
    "from tqdm import tqdm # Nice Progress bar for loops\n",
    "from Rankine_solver import define_empty_variables, solve_r_rankine_cycle\n",
    "from Rankine_solver import display_tables, plot_Ts_cycle"
   ]
  },
  {
   "cell_type": "code",
   "execution_count": null,
   "id": "2",
   "metadata": {},
   "outputs": [],
   "source": [
    "def Conductance(k,L,r1,r2):\n",
    "    G=(2*np.pi*k*L)/(np.log(r2/r1))\n",
    "    return G"
   ]
  },
  {
   "cell_type": "code",
   "execution_count": null,
   "id": "3",
   "metadata": {},
   "outputs": [],
   "source": [
    "G=Conductance(398, 1, 0.003, 0.005)\n",
    "print(G)"
   ]
  },
  {
   "cell_type": "markdown",
   "id": "4",
   "metadata": {},
   "source": [
    "Starting w the cold side i.e. 1->2 "
   ]
  },
  {
   "cell_type": "code",
   "execution_count": null,
   "id": "5",
   "metadata": {},
   "outputs": [],
   "source": [
    "#finding value of qc\n",
    "vars = define_empty_variables()\n",
    "\n",
    "# give the solver *one* piece of information per state\n",
    "vars['2']['T'] = 5  # C\n",
    "vars['4']['T'] = 35 # C\n",
    "\n",
    "solved = solve_r_rankine_cycle(vars)\n",
    "\n",
    "display_tables(solved)"
   ]
  },
  {
   "cell_type": "code",
   "execution_count": null,
   "id": "6",
   "metadata": {},
   "outputs": [],
   "source": [
    "qc=151 #kJ/kg"
   ]
  },
  {
   "cell_type": "markdown",
   "id": "7",
   "metadata": {},
   "source": [
    "We know $\\dot{Q}_C=G\\cdot \\Delta T$ and $\\dot{Q}_C=\\dot{m} \\cdot q_C$, therefore the maximum heat flow $\\dot{m}_C^{Max}$ for the process $1\\rightarrow{2}$ is :  $\\dot{m}_C^{Max}=\\frac{G\\cdot \\Delta T}{q_C}$"
   ]
  },
  {
   "cell_type": "code",
   "execution_count": null,
   "id": "8",
   "metadata": {},
   "outputs": [],
   "source": [
    "Tc =10+273.15 #K\n",
    "T2=5+273.15 #K\n",
    "m_dot_C=(G*10**(-3)*(Tc-T2))/qc #kg/s\n",
    "print(m_dot_C) "
   ]
  },
  {
   "cell_type": "markdown",
   "id": "9",
   "metadata": {},
   "source": [
    "Repeat for process $3 \\rightarrow{4}$"
   ]
  },
  {
   "cell_type": "code",
   "execution_count": null,
   "id": "10",
   "metadata": {},
   "outputs": [],
   "source": [
    "qh=171 #kJ/kg\n",
    "TH=22+273.15 #K\n",
    "T4=35+273.15 #K\n",
    "m_dot_H=(G*10**(-3)*(np.abs(TH-T4)))/qh #kg/s\n",
    "print(m_dot_H)\n"
   ]
  },
  {
   "cell_type": "code",
   "execution_count": null,
   "id": "11",
   "metadata": {},
   "outputs": [],
   "source": [
    "#finding min value and assigning to m_dot \n",
    "m_dot=min(m_dot_C,m_dot_H)\n",
    "print(m_dot)"
   ]
  },
  {
   "cell_type": "code",
   "execution_count": null,
   "id": "12",
   "metadata": {},
   "outputs": [],
   "source": [
    "def get_q_from_T(T2, T4):\n",
    "    vars = define_empty_variables()\n",
    "    vars['2']['T'] = T2 # C\n",
    "    vars['4']['T'] = T4 # C\n",
    "\n",
    "    solved = solve_r_rankine_cycle(vars)\n",
    "    return solved['qh'], solved['qc']\n",
    "\n",
    "\n",
    "\n",
    "def get_m_dot_from_T(G,TC,TH,T2, T4):\n",
    "    if T2 >= TC :\n",
    "        return 0  # No heat absorption or rejection possible\n",
    "    qh,qc=get_q_from_T(T2, T4)\n",
    "    m_dot_H = 0\n",
    "    if abs(qh) > 1e-5 :\n",
    "        m_dot_H = (G * 1e-3 * np.abs(TH - T4)) / qh\n",
    "\n",
    "    m_dot_C = 0\n",
    "    if abs(qc) > 1e-5 :\n",
    "        m_dot_C = (G * 1e-3 * np.abs(TC - T2)) / qc\n",
    "\n",
    "    m_dot = max(min(m_dot_C, m_dot_H), 0)\n",
    "    return m_dot\n",
    "\n",
    "\n",
    "T2s = np.linspace(-10, 15, 100)  # C\n",
    "T4s = [25, 30, 35]  # C\n",
    "TC=10  # C\n",
    "TH=22  # C\n",
    "G=4895.423478997306 # W/K\n",
    "\n",
    "plt.figure(figsize=(10, 6))\n",
    "for T4 in T4s:\n",
    "    print(f'Calculating Q_H for T4 = {T4}°C')\n",
    "    Q_Hs = []\n",
    "    for T2 in tqdm(T2s):\n",
    "        Q_H = get_q_from_T(T2, T4)[0] * get_m_dot_from_T(G, TC, TH, T2, T4)\n",
    "        Q_Hs.append(Q_H)\n",
    "    plt.plot(T2s, Q_Hs, label=f'T4 = {T4}°C')\n",
    "\n",
    "plt.xlabel(r'$T_2$ (°C)')\n",
    "plt.ylabel(r'$\\dot{Q}_H$ (kW)')\n",
    "plt.title('Maximum heating power for different T4 values')\n",
    "plt.grid(True)\n",
    "plt.legend()\n",
    "plt.show()"
   ]
  },
  {
   "cell_type": "code",
   "execution_count": null,
   "id": "13",
   "metadata": {},
   "outputs": [],
   "source": [
    "qh=get_q_from_T(0, 35)[0]\n",
    "m_dot=get_m_dot_from_T(G,10,22,0, 35)\n",
    "QH1=qh*m_dot\n",
    "print(QH1)"
   ]
  }
 ],
 "metadata": {
  "kernelspec": {
   "display_name": ".venv",
   "language": "python",
   "name": "python3"
  },
  "language_info": {
   "codemirror_mode": {
    "name": "ipython",
    "version": 3
   },
   "file_extension": ".py",
   "mimetype": "text/x-python",
   "name": "python",
   "nbconvert_exporter": "python",
   "pygments_lexer": "ipython3",
   "version": "3.11.5"
  }
 },
 "nbformat": 4,
 "nbformat_minor": 5
}
