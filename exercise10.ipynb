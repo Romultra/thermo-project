{
 "cells": [
  {
   "cell_type": "markdown",
   "id": "0",
   "metadata": {},
   "source": [
    "# Question 10"
   ]
  },
  {
   "cell_type": "code",
   "execution_count": null,
   "id": "1",
   "metadata": {},
   "outputs": [],
   "source": [
    "from sympy import *\n",
    "import numpy as np"
   ]
  },
  {
   "cell_type": "code",
   "execution_count": null,
   "id": "2",
   "metadata": {},
   "outputs": [],
   "source": [
    "import nbimporter\n",
    "from exercise9 import *"
   ]
  },
  {
   "cell_type": "code",
   "execution_count": null,
   "id": "3",
   "metadata": {},
   "outputs": [],
   "source": [
    "power = 0.5184916570833332 \n",
    "heat_rate = 8.18 #kW\n",
    "total_heat = heat_rate * 24 * 3600 #kJ, the heat that needs to be supplied to the house\n",
    "\n",
    "def wiggle_room(power_pump, power_heater): \n",
    "    # differnce in working pollution of pump and heater \n",
    "    # this is the amount that the production of the pump can emit and still break even with the heater \n",
    "    # upper bound \n",
    "    co2_pump, co2_heater, co2_methane = energy_kgCO2(power_pump,power_heater,total_heat)\n",
    "    co2_pump15 = co2_pump * 365 * 15\n",
    "    co2_heater15 = co2_heater * 365 * 15\n",
    "    difference = (co2_pump15-co2_heater15)\n",
    "    return difference, co2_pump15, co2_heater15 # in kg"
   ]
  },
  {
   "cell_type": "code",
   "execution_count": null,
   "id": "4",
   "metadata": {},
   "outputs": [],
   "source": [
    "#Wiggle room for heat pump to remain preferable over heater in terms of emissions\n",
    "\n",
    "heat_pump_emission15 = wiggle_room(power,heat_rate)[1] / 1000 #tons \n",
    "electric_heater_emission15 = wiggle_room(power,heat_rate)[2] / 1000 # tons\n",
    "emission_difference = wiggle_room(power,heat_rate)[0] /1000 # Tons\n",
    "\n",
    "print(f\"The heat pump emits {heat_pump_emission15:.2f} tons of CO2 over 15 years while the electric heater emits {electric_heater_emission15:.2f} tons of CO2\")\n",
    "print(f\"The emission difference between the heat pump and the electric heater is: {emission_difference:.2f} tons\")"
   ]
  },
  {
   "cell_type": "code",
   "execution_count": null,
   "id": "5",
   "metadata": {},
   "outputs": [],
   "source": [
    "total_heat"
   ]
  },
  {
   "cell_type": "code",
   "execution_count": null,
   "id": "6",
   "metadata": {},
   "outputs": [],
   "source": []
  }
 ],
 "metadata": {
  "kernelspec": {
   "display_name": ".venv",
   "language": "python",
   "name": "python3"
  },
  "language_info": {
   "codemirror_mode": {
    "name": "ipython",
    "version": 3
   },
   "file_extension": ".py",
   "mimetype": "text/x-python",
   "name": "python",
   "nbconvert_exporter": "python",
   "pygments_lexer": "ipython3",
   "version": "3.11.5"
  }
 },
 "nbformat": 4,
 "nbformat_minor": 5
}
